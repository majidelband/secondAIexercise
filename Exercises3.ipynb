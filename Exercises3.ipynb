{
 "cells": [
  {
   "cell_type": "markdown",
   "metadata": {},
   "source": [
    "# Apple Stock"
   ]
  },
  {
   "cell_type": "markdown",
   "metadata": {},
   "source": [
    "### Introduction:\n",
    "\n",
    "We are going to use Apple's stock price.\n",
    "\n",
    "\n",
    "### Step 1. Import the necessary libraries"
   ]
  },
  {
   "cell_type": "code",
   "execution_count": 12,
   "metadata": {
    "collapsed": false
   },
   "outputs": [],
   "source": [
    "import pandas as pd \n",
    "import matplotlib.pyplot as plt\n",
    "import seaborn as sns"
   ]
  },
  {
   "cell_type": "markdown",
   "metadata": {},
   "source": [
    "### Step 2. Import the dataset"
   ]
  },
  {
   "cell_type": "code",
   "execution_count": 13,
   "metadata": {
    "collapsed": true
   },
   "outputs": [],
   "source": [
    "apple = pd.read_csv('Apple Stock.csv')"
   ]
  },
  {
   "cell_type": "markdown",
   "metadata": {},
   "source": [
    "### Step 3. Assign it to a variable apple"
   ]
  },
  {
   "cell_type": "code",
   "execution_count": null,
   "metadata": {
    "collapsed": false
   },
   "outputs": [],
   "source": []
  },
  {
   "cell_type": "markdown",
   "metadata": {},
   "source": [
    "### Step 4.  Check out the type of the columns"
   ]
  },
  {
   "cell_type": "code",
   "execution_count": 14,
   "metadata": {
    "collapsed": false
   },
   "outputs": [
    {
     "data": {
      "text/plain": [
       "Date             object\n",
       "Open            float64\n",
       "High            float64\n",
       "Low             float64\n",
       "Close           float64\n",
       "Volume            int64\n",
       "Dividends       float64\n",
       "Stock Splits      int64\n",
       "dtype: object"
      ]
     },
     "execution_count": 14,
     "metadata": {},
     "output_type": "execute_result"
    }
   ],
   "source": [
    "apple.dtypes"
   ]
  },
  {
   "cell_type": "markdown",
   "metadata": {},
   "source": [
    "### Step 5. Transform the Date column as a datetime type"
   ]
  },
  {
   "cell_type": "code",
   "execution_count": 15,
   "metadata": {
    "collapsed": false
   },
   "outputs": [],
   "source": [
    "apple['Date'] = pd.to_datetime(apple['Date'])\n",
    "apple['Date'] = apple['Date'].astype('datetime64[ns]')"
   ]
  },
  {
   "cell_type": "code",
   "execution_count": 16,
   "metadata": {},
   "outputs": [
    {
     "data": {
      "text/plain": [
       "dtype('<M8[ns]')"
      ]
     },
     "execution_count": 16,
     "metadata": {},
     "output_type": "execute_result"
    }
   ],
   "source": [
    "apple['Date'].dtype"
   ]
  },
  {
   "cell_type": "markdown",
   "metadata": {},
   "source": [
    "### Step 6.  Set the date as the index"
   ]
  },
  {
   "cell_type": "code",
   "execution_count": 17,
   "metadata": {
    "collapsed": false
   },
   "outputs": [
    {
     "data": {
      "text/html": [
       "<div>\n",
       "<style scoped>\n",
       "    .dataframe tbody tr th:only-of-type {\n",
       "        vertical-align: middle;\n",
       "    }\n",
       "\n",
       "    .dataframe tbody tr th {\n",
       "        vertical-align: top;\n",
       "    }\n",
       "\n",
       "    .dataframe thead th {\n",
       "        text-align: right;\n",
       "    }\n",
       "</style>\n",
       "<table border=\"1\" class=\"dataframe\">\n",
       "  <thead>\n",
       "    <tr style=\"text-align: right;\">\n",
       "      <th></th>\n",
       "      <th>Date</th>\n",
       "      <th>Open</th>\n",
       "      <th>High</th>\n",
       "      <th>Low</th>\n",
       "      <th>Close</th>\n",
       "      <th>Volume</th>\n",
       "      <th>Dividends</th>\n",
       "      <th>Stock Splits</th>\n",
       "    </tr>\n",
       "    <tr>\n",
       "      <th>Date</th>\n",
       "      <th></th>\n",
       "      <th></th>\n",
       "      <th></th>\n",
       "      <th></th>\n",
       "      <th></th>\n",
       "      <th></th>\n",
       "      <th></th>\n",
       "      <th></th>\n",
       "    </tr>\n",
       "  </thead>\n",
       "  <tbody>\n",
       "    <tr>\n",
       "      <th>2000-01-03</th>\n",
       "      <td>2000-01-03</td>\n",
       "      <td>0.806567</td>\n",
       "      <td>0.865209</td>\n",
       "      <td>0.782053</td>\n",
       "      <td>0.860883</td>\n",
       "      <td>535796800</td>\n",
       "      <td>0.0</td>\n",
       "      <td>0</td>\n",
       "    </tr>\n",
       "    <tr>\n",
       "      <th>2000-01-04</th>\n",
       "      <td>2000-01-04</td>\n",
       "      <td>0.832523</td>\n",
       "      <td>0.850789</td>\n",
       "      <td>0.778208</td>\n",
       "      <td>0.788302</td>\n",
       "      <td>512377600</td>\n",
       "      <td>0.0</td>\n",
       "      <td>0</td>\n",
       "    </tr>\n",
       "    <tr>\n",
       "      <th>2000-01-05</th>\n",
       "      <td>2000-01-05</td>\n",
       "      <td>0.797915</td>\n",
       "      <td>0.850308</td>\n",
       "      <td>0.792147</td>\n",
       "      <td>0.799837</td>\n",
       "      <td>778321600</td>\n",
       "      <td>0.0</td>\n",
       "      <td>0</td>\n",
       "    </tr>\n",
       "    <tr>\n",
       "      <th>2000-01-06</th>\n",
       "      <td>2000-01-06</td>\n",
       "      <td>0.816181</td>\n",
       "      <td>0.822910</td>\n",
       "      <td>0.730621</td>\n",
       "      <td>0.730621</td>\n",
       "      <td>767972800</td>\n",
       "      <td>0.0</td>\n",
       "      <td>0</td>\n",
       "    </tr>\n",
       "    <tr>\n",
       "      <th>2000-01-07</th>\n",
       "      <td>2000-01-07</td>\n",
       "      <td>0.742157</td>\n",
       "      <td>0.776765</td>\n",
       "      <td>0.734466</td>\n",
       "      <td>0.765229</td>\n",
       "      <td>460734400</td>\n",
       "      <td>0.0</td>\n",
       "      <td>0</td>\n",
       "    </tr>\n",
       "    <tr>\n",
       "      <th>...</th>\n",
       "      <td>...</td>\n",
       "      <td>...</td>\n",
       "      <td>...</td>\n",
       "      <td>...</td>\n",
       "      <td>...</td>\n",
       "      <td>...</td>\n",
       "      <td>...</td>\n",
       "      <td>...</td>\n",
       "    </tr>\n",
       "    <tr>\n",
       "      <th>2020-12-24</th>\n",
       "      <td>2020-12-24</td>\n",
       "      <td>131.124063</td>\n",
       "      <td>133.260869</td>\n",
       "      <td>130.904390</td>\n",
       "      <td>131.773087</td>\n",
       "      <td>54930100</td>\n",
       "      <td>0.0</td>\n",
       "      <td>0</td>\n",
       "    </tr>\n",
       "    <tr>\n",
       "      <th>2020-12-28</th>\n",
       "      <td>2020-12-28</td>\n",
       "      <td>133.790085</td>\n",
       "      <td>137.135077</td>\n",
       "      <td>133.310790</td>\n",
       "      <td>136.486053</td>\n",
       "      <td>124486200</td>\n",
       "      <td>0.0</td>\n",
       "      <td>0</td>\n",
       "    </tr>\n",
       "    <tr>\n",
       "      <th>2020-12-29</th>\n",
       "      <td>2020-12-29</td>\n",
       "      <td>137.844025</td>\n",
       "      <td>138.582911</td>\n",
       "      <td>134.139554</td>\n",
       "      <td>134.668762</td>\n",
       "      <td>121047300</td>\n",
       "      <td>0.0</td>\n",
       "      <td>0</td>\n",
       "    </tr>\n",
       "    <tr>\n",
       "      <th>2020-12-30</th>\n",
       "      <td>2020-12-30</td>\n",
       "      <td>135.377703</td>\n",
       "      <td>135.787094</td>\n",
       "      <td>133.200948</td>\n",
       "      <td>133.520477</td>\n",
       "      <td>96452100</td>\n",
       "      <td>0.0</td>\n",
       "      <td>0</td>\n",
       "    </tr>\n",
       "    <tr>\n",
       "      <th>2020-12-31</th>\n",
       "      <td>2020-12-31</td>\n",
       "      <td>133.879945</td>\n",
       "      <td>134.538964</td>\n",
       "      <td>131.523466</td>\n",
       "      <td>132.492020</td>\n",
       "      <td>98990400</td>\n",
       "      <td>0.0</td>\n",
       "      <td>0</td>\n",
       "    </tr>\n",
       "  </tbody>\n",
       "</table>\n",
       "<p>5284 rows × 8 columns</p>\n",
       "</div>"
      ],
      "text/plain": [
       "                 Date        Open        High         Low       Close  \\\n",
       "Date                                                                    \n",
       "2000-01-03 2000-01-03    0.806567    0.865209    0.782053    0.860883   \n",
       "2000-01-04 2000-01-04    0.832523    0.850789    0.778208    0.788302   \n",
       "2000-01-05 2000-01-05    0.797915    0.850308    0.792147    0.799837   \n",
       "2000-01-06 2000-01-06    0.816181    0.822910    0.730621    0.730621   \n",
       "2000-01-07 2000-01-07    0.742157    0.776765    0.734466    0.765229   \n",
       "...               ...         ...         ...         ...         ...   \n",
       "2020-12-24 2020-12-24  131.124063  133.260869  130.904390  131.773087   \n",
       "2020-12-28 2020-12-28  133.790085  137.135077  133.310790  136.486053   \n",
       "2020-12-29 2020-12-29  137.844025  138.582911  134.139554  134.668762   \n",
       "2020-12-30 2020-12-30  135.377703  135.787094  133.200948  133.520477   \n",
       "2020-12-31 2020-12-31  133.879945  134.538964  131.523466  132.492020   \n",
       "\n",
       "               Volume  Dividends  Stock Splits  \n",
       "Date                                            \n",
       "2000-01-03  535796800        0.0             0  \n",
       "2000-01-04  512377600        0.0             0  \n",
       "2000-01-05  778321600        0.0             0  \n",
       "2000-01-06  767972800        0.0             0  \n",
       "2000-01-07  460734400        0.0             0  \n",
       "...               ...        ...           ...  \n",
       "2020-12-24   54930100        0.0             0  \n",
       "2020-12-28  124486200        0.0             0  \n",
       "2020-12-29  121047300        0.0             0  \n",
       "2020-12-30   96452100        0.0             0  \n",
       "2020-12-31   98990400        0.0             0  \n",
       "\n",
       "[5284 rows x 8 columns]"
      ]
     },
     "execution_count": 17,
     "metadata": {},
     "output_type": "execute_result"
    }
   ],
   "source": [
    "apple.set_index(apple['Date'])"
   ]
  },
  {
   "cell_type": "markdown",
   "metadata": {},
   "source": [
    "### Step 7.  Is there any duplicate dates?"
   ]
  },
  {
   "cell_type": "code",
   "execution_count": 18,
   "metadata": {
    "collapsed": false
   },
   "outputs": [
    {
     "data": {
      "text/plain": [
       "0       False\n",
       "1       False\n",
       "2       False\n",
       "3       False\n",
       "4       False\n",
       "        ...  \n",
       "5279    False\n",
       "5280    False\n",
       "5281    False\n",
       "5282    False\n",
       "5283    False\n",
       "Name: Date, Length: 5284, dtype: bool"
      ]
     },
     "execution_count": 18,
     "metadata": {},
     "output_type": "execute_result"
    }
   ],
   "source": [
    "apple['Date'].duplicated()"
   ]
  },
  {
   "cell_type": "markdown",
   "metadata": {},
   "source": [
    "### Step 8.  Ops...it seems the index is from the most recent date. Make the first entry the oldest date."
   ]
  },
  {
   "cell_type": "code",
   "execution_count": 19,
   "metadata": {
    "collapsed": false
   },
   "outputs": [
    {
     "data": {
      "text/html": [
       "<div>\n",
       "<style scoped>\n",
       "    .dataframe tbody tr th:only-of-type {\n",
       "        vertical-align: middle;\n",
       "    }\n",
       "\n",
       "    .dataframe tbody tr th {\n",
       "        vertical-align: top;\n",
       "    }\n",
       "\n",
       "    .dataframe thead th {\n",
       "        text-align: right;\n",
       "    }\n",
       "</style>\n",
       "<table border=\"1\" class=\"dataframe\">\n",
       "  <thead>\n",
       "    <tr style=\"text-align: right;\">\n",
       "      <th></th>\n",
       "      <th>Date</th>\n",
       "      <th>Open</th>\n",
       "      <th>High</th>\n",
       "      <th>Low</th>\n",
       "      <th>Close</th>\n",
       "      <th>Volume</th>\n",
       "      <th>Dividends</th>\n",
       "      <th>Stock Splits</th>\n",
       "    </tr>\n",
       "  </thead>\n",
       "  <tbody>\n",
       "    <tr>\n",
       "      <th>0</th>\n",
       "      <td>2000-01-03</td>\n",
       "      <td>0.806567</td>\n",
       "      <td>0.865209</td>\n",
       "      <td>0.782053</td>\n",
       "      <td>0.860883</td>\n",
       "      <td>535796800</td>\n",
       "      <td>0.0</td>\n",
       "      <td>0</td>\n",
       "    </tr>\n",
       "    <tr>\n",
       "      <th>1</th>\n",
       "      <td>2000-01-04</td>\n",
       "      <td>0.832523</td>\n",
       "      <td>0.850789</td>\n",
       "      <td>0.778208</td>\n",
       "      <td>0.788302</td>\n",
       "      <td>512377600</td>\n",
       "      <td>0.0</td>\n",
       "      <td>0</td>\n",
       "    </tr>\n",
       "    <tr>\n",
       "      <th>2</th>\n",
       "      <td>2000-01-05</td>\n",
       "      <td>0.797915</td>\n",
       "      <td>0.850308</td>\n",
       "      <td>0.792147</td>\n",
       "      <td>0.799837</td>\n",
       "      <td>778321600</td>\n",
       "      <td>0.0</td>\n",
       "      <td>0</td>\n",
       "    </tr>\n",
       "    <tr>\n",
       "      <th>3</th>\n",
       "      <td>2000-01-06</td>\n",
       "      <td>0.816181</td>\n",
       "      <td>0.822910</td>\n",
       "      <td>0.730621</td>\n",
       "      <td>0.730621</td>\n",
       "      <td>767972800</td>\n",
       "      <td>0.0</td>\n",
       "      <td>0</td>\n",
       "    </tr>\n",
       "    <tr>\n",
       "      <th>4</th>\n",
       "      <td>2000-01-07</td>\n",
       "      <td>0.742157</td>\n",
       "      <td>0.776765</td>\n",
       "      <td>0.734466</td>\n",
       "      <td>0.765229</td>\n",
       "      <td>460734400</td>\n",
       "      <td>0.0</td>\n",
       "      <td>0</td>\n",
       "    </tr>\n",
       "    <tr>\n",
       "      <th>...</th>\n",
       "      <td>...</td>\n",
       "      <td>...</td>\n",
       "      <td>...</td>\n",
       "      <td>...</td>\n",
       "      <td>...</td>\n",
       "      <td>...</td>\n",
       "      <td>...</td>\n",
       "      <td>...</td>\n",
       "    </tr>\n",
       "    <tr>\n",
       "      <th>5279</th>\n",
       "      <td>2020-12-24</td>\n",
       "      <td>131.124063</td>\n",
       "      <td>133.260869</td>\n",
       "      <td>130.904390</td>\n",
       "      <td>131.773087</td>\n",
       "      <td>54930100</td>\n",
       "      <td>0.0</td>\n",
       "      <td>0</td>\n",
       "    </tr>\n",
       "    <tr>\n",
       "      <th>5280</th>\n",
       "      <td>2020-12-28</td>\n",
       "      <td>133.790085</td>\n",
       "      <td>137.135077</td>\n",
       "      <td>133.310790</td>\n",
       "      <td>136.486053</td>\n",
       "      <td>124486200</td>\n",
       "      <td>0.0</td>\n",
       "      <td>0</td>\n",
       "    </tr>\n",
       "    <tr>\n",
       "      <th>5281</th>\n",
       "      <td>2020-12-29</td>\n",
       "      <td>137.844025</td>\n",
       "      <td>138.582911</td>\n",
       "      <td>134.139554</td>\n",
       "      <td>134.668762</td>\n",
       "      <td>121047300</td>\n",
       "      <td>0.0</td>\n",
       "      <td>0</td>\n",
       "    </tr>\n",
       "    <tr>\n",
       "      <th>5282</th>\n",
       "      <td>2020-12-30</td>\n",
       "      <td>135.377703</td>\n",
       "      <td>135.787094</td>\n",
       "      <td>133.200948</td>\n",
       "      <td>133.520477</td>\n",
       "      <td>96452100</td>\n",
       "      <td>0.0</td>\n",
       "      <td>0</td>\n",
       "    </tr>\n",
       "    <tr>\n",
       "      <th>5283</th>\n",
       "      <td>2020-12-31</td>\n",
       "      <td>133.879945</td>\n",
       "      <td>134.538964</td>\n",
       "      <td>131.523466</td>\n",
       "      <td>132.492020</td>\n",
       "      <td>98990400</td>\n",
       "      <td>0.0</td>\n",
       "      <td>0</td>\n",
       "    </tr>\n",
       "  </tbody>\n",
       "</table>\n",
       "<p>5284 rows × 8 columns</p>\n",
       "</div>"
      ],
      "text/plain": [
       "           Date        Open        High         Low       Close     Volume  \\\n",
       "0    2000-01-03    0.806567    0.865209    0.782053    0.860883  535796800   \n",
       "1    2000-01-04    0.832523    0.850789    0.778208    0.788302  512377600   \n",
       "2    2000-01-05    0.797915    0.850308    0.792147    0.799837  778321600   \n",
       "3    2000-01-06    0.816181    0.822910    0.730621    0.730621  767972800   \n",
       "4    2000-01-07    0.742157    0.776765    0.734466    0.765229  460734400   \n",
       "...         ...         ...         ...         ...         ...        ...   \n",
       "5279 2020-12-24  131.124063  133.260869  130.904390  131.773087   54930100   \n",
       "5280 2020-12-28  133.790085  137.135077  133.310790  136.486053  124486200   \n",
       "5281 2020-12-29  137.844025  138.582911  134.139554  134.668762  121047300   \n",
       "5282 2020-12-30  135.377703  135.787094  133.200948  133.520477   96452100   \n",
       "5283 2020-12-31  133.879945  134.538964  131.523466  132.492020   98990400   \n",
       "\n",
       "      Dividends  Stock Splits  \n",
       "0           0.0             0  \n",
       "1           0.0             0  \n",
       "2           0.0             0  \n",
       "3           0.0             0  \n",
       "4           0.0             0  \n",
       "...         ...           ...  \n",
       "5279        0.0             0  \n",
       "5280        0.0             0  \n",
       "5281        0.0             0  \n",
       "5282        0.0             0  \n",
       "5283        0.0             0  \n",
       "\n",
       "[5284 rows x 8 columns]"
      ]
     },
     "execution_count": 19,
     "metadata": {},
     "output_type": "execute_result"
    }
   ],
   "source": [
    "apple.sort_values(by='Date')"
   ]
  },
  {
   "cell_type": "markdown",
   "metadata": {},
   "source": [
    "### Step 9. Get the last business day of each month"
   ]
  },
  {
   "cell_type": "code",
   "execution_count": null,
   "metadata": {
    "collapsed": false
   },
   "outputs": [],
   "source": []
  },
  {
   "cell_type": "markdown",
   "metadata": {},
   "source": [
    "### Step 10.  What is the difference in days between the first day and the oldest"
   ]
  },
  {
   "cell_type": "code",
   "execution_count": null,
   "metadata": {
    "collapsed": false
   },
   "outputs": [],
   "source": []
  },
  {
   "cell_type": "markdown",
   "metadata": {},
   "source": [
    "### Step 11.  How many months in the data we have?"
   ]
  },
  {
   "cell_type": "code",
   "execution_count": 20,
   "metadata": {
    "collapsed": false
   },
   "outputs": [
    {
     "data": {
      "text/plain": [
       "252"
      ]
     },
     "execution_count": 20,
     "metadata": {},
     "output_type": "execute_result"
    }
   ],
   "source": [
    "apple['Date'] = pd.to_datetime(apple['Date'])\n",
    "apple['YearMonth'] = apple['Date'].dt.to_period('M')\n",
    "num_months = apple['YearMonth'].nunique()\n",
    "num_months"
   ]
  },
  {
   "cell_type": "markdown",
   "metadata": {},
   "source": [
    "### Step 12. Plot the 'Adj Close' value. Set the size of the figure to 13.5 x 9 inches"
   ]
  },
  {
   "cell_type": "code",
   "execution_count": 29,
   "metadata": {
    "collapsed": false
   },
   "outputs": [
    {
     "data": {
      "image/png": "[encoded data removed]",
      "text/plain": [
       "<Figure size 640x480 with 1 Axes>"
      ]
     },
     "metadata": {},
     "output_type": "display_data"
    }
   ],
   "source": [
    "plt.Figure(figsize=(13.5, 9))\n",
    "plt.plot(apple['Close'])\n",
    "plt.show()"
   ]
  },
  {
   "cell_type": "markdown",
   "metadata": {},
   "source": [
    "### BONUS: Create your own question and answer it."
   ]
  },
  {
   "cell_type": "code",
   "execution_count": null,
   "metadata": {
    "collapsed": true
   },
   "outputs": [],
   "source": []
  }
 ],
 "metadata": {
  "anaconda-cloud": {},
  "kernelspec": {
   "display_name": "env",
   "language": "python",
   "name": "python3"
  },
  "language_info": {
   "codemirror_mode": {
    "name": "ipython",
    "version": 3
   },
   "file_extension": ".py",
   "mimetype": "text/x-python",
   "name": "python",
   "nbconvert_exporter": "python",
   "pygments_lexer": "ipython3",
   "version": "3.10.10"
  }
 },
 "nbformat": 4,
 "nbformat_minor": 0
}
